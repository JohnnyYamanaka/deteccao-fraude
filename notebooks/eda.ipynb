{
 "cells": [
  {
   "cell_type": "markdown",
   "metadata": {},
   "source": [
    "# Análise Exploratória dos Dados  \n",
    "Agora que adquirimos os dados, vamos partir para análise exploratória e verificar a integridade dos dados também."
   ]
  },
  {
   "cell_type": "code",
   "execution_count": 1,
   "metadata": {},
   "outputs": [],
   "source": [
    "# Importando as bibliotecas\n",
    "import pandas as pd\n",
    "import numpy as np\n",
    "import matplotlib.pyplot as plt\n",
    "import seaborn as sns\n",
    "\n",
    "%matplotlib inline\n",
    "\n",
    "pd.options.display.float_format = \"{:,.2f}\".format"
   ]
  },
  {
   "cell_type": "code",
   "execution_count": 2,
   "metadata": {},
   "outputs": [],
   "source": [
    "TITLE_FONT = {'fontsize': 18, 'weight': 'bold',}"
   ]
  },
  {
   "cell_type": "code",
   "execution_count": 3,
   "metadata": {},
   "outputs": [
    {
     "data": {
      "text/html": [
       "<div>\n",
       "<style scoped>\n",
       "    .dataframe tbody tr th:only-of-type {\n",
       "        vertical-align: middle;\n",
       "    }\n",
       "\n",
       "    .dataframe tbody tr th {\n",
       "        vertical-align: top;\n",
       "    }\n",
       "\n",
       "    .dataframe thead th {\n",
       "        text-align: right;\n",
       "    }\n",
       "</style>\n",
       "<table border=\"1\" class=\"dataframe\">\n",
       "  <thead>\n",
       "    <tr style=\"text-align: right;\">\n",
       "      <th></th>\n",
       "      <th>step</th>\n",
       "      <th>type</th>\n",
       "      <th>amount</th>\n",
       "      <th>nameOrig</th>\n",
       "      <th>oldbalanceOrg</th>\n",
       "      <th>newbalanceOrig</th>\n",
       "      <th>nameDest</th>\n",
       "      <th>oldbalanceDest</th>\n",
       "      <th>newbalanceDest</th>\n",
       "      <th>isFraud</th>\n",
       "      <th>isFlaggedFraud</th>\n",
       "    </tr>\n",
       "  </thead>\n",
       "  <tbody>\n",
       "    <tr>\n",
       "      <th>0</th>\n",
       "      <td>1</td>\n",
       "      <td>PAYMENT</td>\n",
       "      <td>9,839.64</td>\n",
       "      <td>C1231006815</td>\n",
       "      <td>170,136.00</td>\n",
       "      <td>160,296.36</td>\n",
       "      <td>M1979787155</td>\n",
       "      <td>0.00</td>\n",
       "      <td>0.00</td>\n",
       "      <td>0</td>\n",
       "      <td>0</td>\n",
       "    </tr>\n",
       "    <tr>\n",
       "      <th>1</th>\n",
       "      <td>1</td>\n",
       "      <td>PAYMENT</td>\n",
       "      <td>1,864.28</td>\n",
       "      <td>C1666544295</td>\n",
       "      <td>21,249.00</td>\n",
       "      <td>19,384.72</td>\n",
       "      <td>M2044282225</td>\n",
       "      <td>0.00</td>\n",
       "      <td>0.00</td>\n",
       "      <td>0</td>\n",
       "      <td>0</td>\n",
       "    </tr>\n",
       "    <tr>\n",
       "      <th>2</th>\n",
       "      <td>1</td>\n",
       "      <td>TRANSFER</td>\n",
       "      <td>181.00</td>\n",
       "      <td>C1305486145</td>\n",
       "      <td>181.00</td>\n",
       "      <td>0.00</td>\n",
       "      <td>C553264065</td>\n",
       "      <td>0.00</td>\n",
       "      <td>0.00</td>\n",
       "      <td>1</td>\n",
       "      <td>0</td>\n",
       "    </tr>\n",
       "    <tr>\n",
       "      <th>3</th>\n",
       "      <td>1</td>\n",
       "      <td>CASH_OUT</td>\n",
       "      <td>181.00</td>\n",
       "      <td>C840083671</td>\n",
       "      <td>181.00</td>\n",
       "      <td>0.00</td>\n",
       "      <td>C38997010</td>\n",
       "      <td>21,182.00</td>\n",
       "      <td>0.00</td>\n",
       "      <td>1</td>\n",
       "      <td>0</td>\n",
       "    </tr>\n",
       "    <tr>\n",
       "      <th>4</th>\n",
       "      <td>1</td>\n",
       "      <td>PAYMENT</td>\n",
       "      <td>11,668.14</td>\n",
       "      <td>C2048537720</td>\n",
       "      <td>41,554.00</td>\n",
       "      <td>29,885.86</td>\n",
       "      <td>M1230701703</td>\n",
       "      <td>0.00</td>\n",
       "      <td>0.00</td>\n",
       "      <td>0</td>\n",
       "      <td>0</td>\n",
       "    </tr>\n",
       "  </tbody>\n",
       "</table>\n",
       "</div>"
      ],
      "text/plain": [
       "   step      type    amount     nameOrig  oldbalanceOrg  newbalanceOrig  \\\n",
       "0     1   PAYMENT  9,839.64  C1231006815     170,136.00      160,296.36   \n",
       "1     1   PAYMENT  1,864.28  C1666544295      21,249.00       19,384.72   \n",
       "2     1  TRANSFER    181.00  C1305486145         181.00            0.00   \n",
       "3     1  CASH_OUT    181.00   C840083671         181.00            0.00   \n",
       "4     1   PAYMENT 11,668.14  C2048537720      41,554.00       29,885.86   \n",
       "\n",
       "      nameDest  oldbalanceDest  newbalanceDest  isFraud  isFlaggedFraud  \n",
       "0  M1979787155            0.00            0.00        0               0  \n",
       "1  M2044282225            0.00            0.00        0               0  \n",
       "2   C553264065            0.00            0.00        1               0  \n",
       "3    C38997010       21,182.00            0.00        1               0  \n",
       "4  M1230701703            0.00            0.00        0               0  "
      ]
     },
     "execution_count": 3,
     "metadata": {},
     "output_type": "execute_result"
    }
   ],
   "source": [
    "# Importando os dados\n",
    "df = pd.read_parquet('../data/financial-data.parquet')\n",
    "df.head()"
   ]
  },
  {
   "cell_type": "code",
   "execution_count": 4,
   "metadata": {},
   "outputs": [
    {
     "data": {
      "text/plain": [
       "RangeIndex(start=0, stop=1500000, step=1)"
      ]
     },
     "execution_count": 4,
     "metadata": {},
     "output_type": "execute_result"
    }
   ],
   "source": [
    "df.index"
   ]
  },
  {
   "cell_type": "markdown",
   "metadata": {},
   "source": [
    "## Verificando dados faltantes"
   ]
  },
  {
   "cell_type": "code",
   "execution_count": 5,
   "metadata": {},
   "outputs": [
    {
     "name": "stdout",
     "output_type": "stream",
     "text": [
      "<class 'pandas.core.frame.DataFrame'>\n",
      "RangeIndex: 1500000 entries, 0 to 1499999\n",
      "Data columns (total 11 columns):\n",
      " #   Column          Non-Null Count    Dtype  \n",
      "---  ------          --------------    -----  \n",
      " 0   step            1500000 non-null  int64  \n",
      " 1   type            1500000 non-null  object \n",
      " 2   amount          1500000 non-null  float64\n",
      " 3   nameOrig        1500000 non-null  object \n",
      " 4   oldbalanceOrg   1500000 non-null  float64\n",
      " 5   newbalanceOrig  1500000 non-null  float64\n",
      " 6   nameDest        1500000 non-null  object \n",
      " 7   oldbalanceDest  1500000 non-null  float64\n",
      " 8   newbalanceDest  1500000 non-null  float64\n",
      " 9   isFraud         1500000 non-null  int64  \n",
      " 10  isFlaggedFraud  1500000 non-null  int64  \n",
      "dtypes: float64(5), int64(3), object(3)\n",
      "memory usage: 125.9+ MB\n"
     ]
    }
   ],
   "source": [
    "df.info()"
   ]
  },
  {
   "cell_type": "markdown",
   "metadata": {},
   "source": [
    "Não existem dados nulos"
   ]
  },
  {
   "cell_type": "markdown",
   "metadata": {},
   "source": [
    "## Verificando a variável target"
   ]
  },
  {
   "cell_type": "code",
   "execution_count": 6,
   "metadata": {},
   "outputs": [
    {
     "data": {
      "text/html": [
       "<div>\n",
       "<style scoped>\n",
       "    .dataframe tbody tr th:only-of-type {\n",
       "        vertical-align: middle;\n",
       "    }\n",
       "\n",
       "    .dataframe tbody tr th {\n",
       "        vertical-align: top;\n",
       "    }\n",
       "\n",
       "    .dataframe thead th {\n",
       "        text-align: right;\n",
       "    }\n",
       "</style>\n",
       "<table border=\"1\" class=\"dataframe\">\n",
       "  <thead>\n",
       "    <tr style=\"text-align: right;\">\n",
       "      <th></th>\n",
       "      <th>step</th>\n",
       "      <th>amount</th>\n",
       "      <th>oldbalanceOrg</th>\n",
       "      <th>newbalanceOrig</th>\n",
       "      <th>oldbalanceDest</th>\n",
       "      <th>newbalanceDest</th>\n",
       "      <th>isFraud</th>\n",
       "      <th>isFlaggedFraud</th>\n",
       "    </tr>\n",
       "  </thead>\n",
       "  <tbody>\n",
       "    <tr>\n",
       "      <th>count</th>\n",
       "      <td>1,500,000.00</td>\n",
       "      <td>1,500,000.00</td>\n",
       "      <td>1,500,000.00</td>\n",
       "      <td>1,500,000.00</td>\n",
       "      <td>1,500,000.00</td>\n",
       "      <td>1,500,000.00</td>\n",
       "      <td>1,500,000.00</td>\n",
       "      <td>1,500,000.00</td>\n",
       "    </tr>\n",
       "    <tr>\n",
       "      <th>mean</th>\n",
       "      <td>59.15</td>\n",
       "      <td>160,829.64</td>\n",
       "      <td>867,460.72</td>\n",
       "      <td>888,257.11</td>\n",
       "      <td>989,385.37</td>\n",
       "      <td>1,114,851.99</td>\n",
       "      <td>0.00</td>\n",
       "      <td>0.00</td>\n",
       "    </tr>\n",
       "    <tr>\n",
       "      <th>std</th>\n",
       "      <td>50.93</td>\n",
       "      <td>267,660.37</td>\n",
       "      <td>2,951,754.60</td>\n",
       "      <td>2,988,125.99</td>\n",
       "      <td>2,301,935.27</td>\n",
       "      <td>2,406,375.82</td>\n",
       "      <td>0.03</td>\n",
       "      <td>0.00</td>\n",
       "    </tr>\n",
       "    <tr>\n",
       "      <th>min</th>\n",
       "      <td>1.00</td>\n",
       "      <td>0.10</td>\n",
       "      <td>0.00</td>\n",
       "      <td>0.00</td>\n",
       "      <td>0.00</td>\n",
       "      <td>0.00</td>\n",
       "      <td>0.00</td>\n",
       "      <td>0.00</td>\n",
       "    </tr>\n",
       "    <tr>\n",
       "      <th>25%</th>\n",
       "      <td>17.00</td>\n",
       "      <td>12,988.44</td>\n",
       "      <td>0.00</td>\n",
       "      <td>0.00</td>\n",
       "      <td>0.00</td>\n",
       "      <td>0.00</td>\n",
       "      <td>0.00</td>\n",
       "      <td>0.00</td>\n",
       "    </tr>\n",
       "    <tr>\n",
       "      <th>50%</th>\n",
       "      <td>38.00</td>\n",
       "      <td>78,028.89</td>\n",
       "      <td>15,286.00</td>\n",
       "      <td>0.00</td>\n",
       "      <td>133,626.51</td>\n",
       "      <td>224,440.36</td>\n",
       "      <td>0.00</td>\n",
       "      <td>0.00</td>\n",
       "    </tr>\n",
       "    <tr>\n",
       "      <th>75%</th>\n",
       "      <td>130.00</td>\n",
       "      <td>216,230.95</td>\n",
       "      <td>125,777.86</td>\n",
       "      <td>167,023.76</td>\n",
       "      <td>936,451.51</td>\n",
       "      <td>1,152,678.68</td>\n",
       "      <td>0.00</td>\n",
       "      <td>0.00</td>\n",
       "    </tr>\n",
       "    <tr>\n",
       "      <th>max</th>\n",
       "      <td>143.00</td>\n",
       "      <td>10,000,000.00</td>\n",
       "      <td>38,939,424.03</td>\n",
       "      <td>38,946,233.02</td>\n",
       "      <td>42,207,404.59</td>\n",
       "      <td>42,207,404.59</td>\n",
       "      <td>1.00</td>\n",
       "      <td>0.00</td>\n",
       "    </tr>\n",
       "  </tbody>\n",
       "</table>\n",
       "</div>"
      ],
      "text/plain": [
       "              step        amount  oldbalanceOrg  newbalanceOrig  \\\n",
       "count 1,500,000.00  1,500,000.00   1,500,000.00    1,500,000.00   \n",
       "mean         59.15    160,829.64     867,460.72      888,257.11   \n",
       "std          50.93    267,660.37   2,951,754.60    2,988,125.99   \n",
       "min           1.00          0.10           0.00            0.00   \n",
       "25%          17.00     12,988.44           0.00            0.00   \n",
       "50%          38.00     78,028.89      15,286.00            0.00   \n",
       "75%         130.00    216,230.95     125,777.86      167,023.76   \n",
       "max         143.00 10,000,000.00  38,939,424.03   38,946,233.02   \n",
       "\n",
       "       oldbalanceDest  newbalanceDest      isFraud  isFlaggedFraud  \n",
       "count    1,500,000.00    1,500,000.00 1,500,000.00    1,500,000.00  \n",
       "mean       989,385.37    1,114,851.99         0.00            0.00  \n",
       "std      2,301,935.27    2,406,375.82         0.03            0.00  \n",
       "min              0.00            0.00         0.00            0.00  \n",
       "25%              0.00            0.00         0.00            0.00  \n",
       "50%        133,626.51      224,440.36         0.00            0.00  \n",
       "75%        936,451.51    1,152,678.68         0.00            0.00  \n",
       "max     42,207,404.59   42,207,404.59         1.00            0.00  "
      ]
     },
     "execution_count": 6,
     "metadata": {},
     "output_type": "execute_result"
    }
   ],
   "source": [
    "df.describe()"
   ]
  },
  {
   "cell_type": "code",
   "execution_count": 7,
   "metadata": {},
   "outputs": [
    {
     "data": {
      "text/plain": [
       "0   99.89\n",
       "1    0.11\n",
       "Name: isFraud, dtype: float64"
      ]
     },
     "execution_count": 7,
     "metadata": {},
     "output_type": "execute_result"
    }
   ],
   "source": [
    "df['isFraud'].value_counts(normalize=True) * 100"
   ]
  },
  {
   "cell_type": "markdown",
   "metadata": {},
   "source": [
    "Como esperado a variável target está muito desbalanceado, com apenas 0,11% de fraude.  \n",
    "Na modelagem será verificado a melhor forma de contornar esse problema."
   ]
  },
  {
   "cell_type": "code",
   "execution_count": 8,
   "metadata": {},
   "outputs": [
    {
     "data": {
      "text/html": [
       "<div>\n",
       "<style scoped>\n",
       "    .dataframe tbody tr th:only-of-type {\n",
       "        vertical-align: middle;\n",
       "    }\n",
       "\n",
       "    .dataframe tbody tr th {\n",
       "        vertical-align: top;\n",
       "    }\n",
       "\n",
       "    .dataframe thead th {\n",
       "        text-align: right;\n",
       "    }\n",
       "</style>\n",
       "<table border=\"1\" class=\"dataframe\">\n",
       "  <thead>\n",
       "    <tr style=\"text-align: right;\">\n",
       "      <th></th>\n",
       "      <th>step</th>\n",
       "      <th>type</th>\n",
       "      <th>amount</th>\n",
       "      <th>nameOrig</th>\n",
       "      <th>oldbalanceOrg</th>\n",
       "      <th>newbalanceOrig</th>\n",
       "      <th>nameDest</th>\n",
       "      <th>oldbalanceDest</th>\n",
       "      <th>newbalanceDest</th>\n",
       "      <th>isFraud</th>\n",
       "      <th>isFlaggedFraud</th>\n",
       "    </tr>\n",
       "  </thead>\n",
       "  <tbody>\n",
       "    <tr>\n",
       "      <th>0</th>\n",
       "      <td>1</td>\n",
       "      <td>PAYMENT</td>\n",
       "      <td>9,839.64</td>\n",
       "      <td>C1231006815</td>\n",
       "      <td>170,136.00</td>\n",
       "      <td>160,296.36</td>\n",
       "      <td>M1979787155</td>\n",
       "      <td>0.00</td>\n",
       "      <td>0.00</td>\n",
       "      <td>0</td>\n",
       "      <td>0</td>\n",
       "    </tr>\n",
       "    <tr>\n",
       "      <th>1</th>\n",
       "      <td>1</td>\n",
       "      <td>PAYMENT</td>\n",
       "      <td>1,864.28</td>\n",
       "      <td>C1666544295</td>\n",
       "      <td>21,249.00</td>\n",
       "      <td>19,384.72</td>\n",
       "      <td>M2044282225</td>\n",
       "      <td>0.00</td>\n",
       "      <td>0.00</td>\n",
       "      <td>0</td>\n",
       "      <td>0</td>\n",
       "    </tr>\n",
       "    <tr>\n",
       "      <th>2</th>\n",
       "      <td>1</td>\n",
       "      <td>TRANSFER</td>\n",
       "      <td>181.00</td>\n",
       "      <td>C1305486145</td>\n",
       "      <td>181.00</td>\n",
       "      <td>0.00</td>\n",
       "      <td>C553264065</td>\n",
       "      <td>0.00</td>\n",
       "      <td>0.00</td>\n",
       "      <td>1</td>\n",
       "      <td>0</td>\n",
       "    </tr>\n",
       "    <tr>\n",
       "      <th>3</th>\n",
       "      <td>1</td>\n",
       "      <td>CASH_OUT</td>\n",
       "      <td>181.00</td>\n",
       "      <td>C840083671</td>\n",
       "      <td>181.00</td>\n",
       "      <td>0.00</td>\n",
       "      <td>C38997010</td>\n",
       "      <td>21,182.00</td>\n",
       "      <td>0.00</td>\n",
       "      <td>1</td>\n",
       "      <td>0</td>\n",
       "    </tr>\n",
       "    <tr>\n",
       "      <th>4</th>\n",
       "      <td>1</td>\n",
       "      <td>PAYMENT</td>\n",
       "      <td>11,668.14</td>\n",
       "      <td>C2048537720</td>\n",
       "      <td>41,554.00</td>\n",
       "      <td>29,885.86</td>\n",
       "      <td>M1230701703</td>\n",
       "      <td>0.00</td>\n",
       "      <td>0.00</td>\n",
       "      <td>0</td>\n",
       "      <td>0</td>\n",
       "    </tr>\n",
       "  </tbody>\n",
       "</table>\n",
       "</div>"
      ],
      "text/plain": [
       "   step      type    amount     nameOrig  oldbalanceOrg  newbalanceOrig  \\\n",
       "0     1   PAYMENT  9,839.64  C1231006815     170,136.00      160,296.36   \n",
       "1     1   PAYMENT  1,864.28  C1666544295      21,249.00       19,384.72   \n",
       "2     1  TRANSFER    181.00  C1305486145         181.00            0.00   \n",
       "3     1  CASH_OUT    181.00   C840083671         181.00            0.00   \n",
       "4     1   PAYMENT 11,668.14  C2048537720      41,554.00       29,885.86   \n",
       "\n",
       "      nameDest  oldbalanceDest  newbalanceDest  isFraud  isFlaggedFraud  \n",
       "0  M1979787155            0.00            0.00        0               0  \n",
       "1  M2044282225            0.00            0.00        0               0  \n",
       "2   C553264065            0.00            0.00        1               0  \n",
       "3    C38997010       21,182.00            0.00        1               0  \n",
       "4  M1230701703            0.00            0.00        0               0  "
      ]
     },
     "execution_count": 8,
     "metadata": {},
     "output_type": "execute_result"
    }
   ],
   "source": [
    "df.head()"
   ]
  },
  {
   "cell_type": "markdown",
   "metadata": {},
   "source": [
    "## Verificando as Features"
   ]
  },
  {
   "cell_type": "markdown",
   "metadata": {},
   "source": [
    "### Step  \n",
    "Essa variável é a unidade de tempo em que a transação foi realizada, sendo que cada uma unidade representa uma hora.  \n",
    "O data set original portanto possui 744 steps, ou 744 horas de transação - 31 dias de simulação.   \n",
    "Para essa fase de modelagem foram selecionadas 1.5M de registros, vamos verificar quantos dias de transações temos nessa base."
   ]
  },
  {
   "cell_type": "code",
   "execution_count": 9,
   "metadata": {},
   "outputs": [
    {
     "data": {
      "text/plain": [
       "5.958333333333333"
      ]
     },
     "execution_count": 9,
     "metadata": {},
     "output_type": "execute_result"
    }
   ],
   "source": [
    "# Qtd step (hora) / horas no dia\n",
    "df['step'].max() / 24"
   ]
  },
  {
   "cell_type": "markdown",
   "metadata": {},
   "source": [
    "Temos aproximadamente 6 dias de transações para podermos modelar."
   ]
  },
  {
   "cell_type": "code",
   "execution_count": 10,
   "metadata": {},
   "outputs": [
    {
     "data": {
      "text/plain": [
       "1       2708\n",
       "2       1014\n",
       "3        552\n",
       "4        565\n",
       "5        665\n",
       "       ...  \n",
       "139    46054\n",
       "140    37012\n",
       "141    16434\n",
       "142    12189\n",
       "143     1535\n",
       "Name: step, Length: 143, dtype: int64"
      ]
     },
     "execution_count": 10,
     "metadata": {},
     "output_type": "execute_result"
    }
   ],
   "source": [
    "df['step'].value_counts().sort_index()"
   ]
  },
  {
   "cell_type": "markdown",
   "metadata": {},
   "source": [
    "Vemos que a quantidade de transações varia conforme a hora.  Esse pode ser uma feature para ser modificado para representar uma hora real, para ver se é possível gerar valor."
   ]
  },
  {
   "cell_type": "markdown",
   "metadata": {},
   "source": [
    "### Type"
   ]
  },
  {
   "cell_type": "code",
   "execution_count": 11,
   "metadata": {},
   "outputs": [
    {
     "data": {
      "text/plain": [
       "CASH_OUT    535211\n",
       "PAYMENT     502308\n",
       "CASH_IN     328503\n",
       "TRANSFER    123993\n",
       "DEBIT         9985\n",
       "Name: type, dtype: int64"
      ]
     },
     "execution_count": 11,
     "metadata": {},
     "output_type": "execute_result"
    }
   ],
   "source": [
    "df['type'].value_counts().sort_values(ascending=False)"
   ]
  },
  {
   "cell_type": "code",
   "execution_count": 12,
   "metadata": {},
   "outputs": [],
   "source": [
    "df_type_ordered = df.sort_values(by='type', ascending=False).copy()"
   ]
  },
  {
   "cell_type": "code",
   "execution_count": 13,
   "metadata": {},
   "outputs": [
    {
     "data": {
      "text/html": [
       "<div>\n",
       "<style scoped>\n",
       "    .dataframe tbody tr th:only-of-type {\n",
       "        vertical-align: middle;\n",
       "    }\n",
       "\n",
       "    .dataframe tbody tr th {\n",
       "        vertical-align: top;\n",
       "    }\n",
       "\n",
       "    .dataframe thead th {\n",
       "        text-align: right;\n",
       "    }\n",
       "</style>\n",
       "<table border=\"1\" class=\"dataframe\">\n",
       "  <thead>\n",
       "    <tr style=\"text-align: right;\">\n",
       "      <th></th>\n",
       "      <th>step</th>\n",
       "      <th>type</th>\n",
       "      <th>amount</th>\n",
       "      <th>nameOrig</th>\n",
       "      <th>oldbalanceOrg</th>\n",
       "      <th>newbalanceOrig</th>\n",
       "      <th>nameDest</th>\n",
       "      <th>oldbalanceDest</th>\n",
       "      <th>newbalanceDest</th>\n",
       "      <th>isFraud</th>\n",
       "      <th>isFlaggedFraud</th>\n",
       "    </tr>\n",
       "  </thead>\n",
       "  <tbody>\n",
       "    <tr>\n",
       "      <th>258520</th>\n",
       "      <td>14</td>\n",
       "      <td>TRANSFER</td>\n",
       "      <td>83,304.61</td>\n",
       "      <td>C1849472116</td>\n",
       "      <td>0.00</td>\n",
       "      <td>0.00</td>\n",
       "      <td>C1210929525</td>\n",
       "      <td>332,730.60</td>\n",
       "      <td>416,035.21</td>\n",
       "      <td>0</td>\n",
       "      <td>0</td>\n",
       "    </tr>\n",
       "    <tr>\n",
       "      <th>882965</th>\n",
       "      <td>42</td>\n",
       "      <td>TRANSFER</td>\n",
       "      <td>179,817.91</td>\n",
       "      <td>C558833408</td>\n",
       "      <td>0.00</td>\n",
       "      <td>0.00</td>\n",
       "      <td>C1569006508</td>\n",
       "      <td>858,207.55</td>\n",
       "      <td>1,038,025.46</td>\n",
       "      <td>0</td>\n",
       "      <td>0</td>\n",
       "    </tr>\n",
       "    <tr>\n",
       "      <th>572518</th>\n",
       "      <td>24</td>\n",
       "      <td>TRANSFER</td>\n",
       "      <td>875,847.75</td>\n",
       "      <td>C1206642984</td>\n",
       "      <td>0.00</td>\n",
       "      <td>0.00</td>\n",
       "      <td>C257229326</td>\n",
       "      <td>5,616,736.95</td>\n",
       "      <td>6,492,584.69</td>\n",
       "      <td>0</td>\n",
       "      <td>0</td>\n",
       "    </tr>\n",
       "    <tr>\n",
       "      <th>882962</th>\n",
       "      <td>42</td>\n",
       "      <td>TRANSFER</td>\n",
       "      <td>387,521.79</td>\n",
       "      <td>C115303301</td>\n",
       "      <td>0.00</td>\n",
       "      <td>0.00</td>\n",
       "      <td>C65098329</td>\n",
       "      <td>573,021.61</td>\n",
       "      <td>1,310,251.50</td>\n",
       "      <td>0</td>\n",
       "      <td>0</td>\n",
       "    </tr>\n",
       "    <tr>\n",
       "      <th>1048515</th>\n",
       "      <td>95</td>\n",
       "      <td>TRANSFER</td>\n",
       "      <td>169,285.09</td>\n",
       "      <td>C969909855</td>\n",
       "      <td>140,856.00</td>\n",
       "      <td>0.00</td>\n",
       "      <td>C1753252271</td>\n",
       "      <td>0.00</td>\n",
       "      <td>169,285.09</td>\n",
       "      <td>0</td>\n",
       "      <td>0</td>\n",
       "    </tr>\n",
       "    <tr>\n",
       "      <th>...</th>\n",
       "      <td>...</td>\n",
       "      <td>...</td>\n",
       "      <td>...</td>\n",
       "      <td>...</td>\n",
       "      <td>...</td>\n",
       "      <td>...</td>\n",
       "      <td>...</td>\n",
       "      <td>...</td>\n",
       "      <td>...</td>\n",
       "      <td>...</td>\n",
       "      <td>...</td>\n",
       "    </tr>\n",
       "    <tr>\n",
       "      <th>818649</th>\n",
       "      <td>40</td>\n",
       "      <td>CASH_IN</td>\n",
       "      <td>3,928.18</td>\n",
       "      <td>C351161366</td>\n",
       "      <td>21,515.00</td>\n",
       "      <td>25,443.18</td>\n",
       "      <td>C358227421</td>\n",
       "      <td>1,215,784.09</td>\n",
       "      <td>1,211,855.90</td>\n",
       "      <td>0</td>\n",
       "      <td>0</td>\n",
       "    </tr>\n",
       "    <tr>\n",
       "      <th>818643</th>\n",
       "      <td>40</td>\n",
       "      <td>CASH_IN</td>\n",
       "      <td>180,135.27</td>\n",
       "      <td>C487276447</td>\n",
       "      <td>231,593.00</td>\n",
       "      <td>411,728.27</td>\n",
       "      <td>C130685659</td>\n",
       "      <td>0.00</td>\n",
       "      <td>0.00</td>\n",
       "      <td>0</td>\n",
       "      <td>0</td>\n",
       "    </tr>\n",
       "    <tr>\n",
       "      <th>818627</th>\n",
       "      <td>40</td>\n",
       "      <td>CASH_IN</td>\n",
       "      <td>229,902.43</td>\n",
       "      <td>C921389747</td>\n",
       "      <td>942,585.04</td>\n",
       "      <td>1,172,487.47</td>\n",
       "      <td>C375861708</td>\n",
       "      <td>0.00</td>\n",
       "      <td>0.00</td>\n",
       "      <td>0</td>\n",
       "      <td>0</td>\n",
       "    </tr>\n",
       "    <tr>\n",
       "      <th>818620</th>\n",
       "      <td>40</td>\n",
       "      <td>CASH_IN</td>\n",
       "      <td>211,381.67</td>\n",
       "      <td>C384438998</td>\n",
       "      <td>13,432.00</td>\n",
       "      <td>224,813.67</td>\n",
       "      <td>C814270414</td>\n",
       "      <td>557,695.58</td>\n",
       "      <td>346,313.91</td>\n",
       "      <td>0</td>\n",
       "      <td>0</td>\n",
       "    </tr>\n",
       "    <tr>\n",
       "      <th>1499999</th>\n",
       "      <td>143</td>\n",
       "      <td>CASH_IN</td>\n",
       "      <td>172,331.41</td>\n",
       "      <td>C1684604981</td>\n",
       "      <td>1,041.00</td>\n",
       "      <td>173,372.41</td>\n",
       "      <td>C1915955710</td>\n",
       "      <td>24,766.55</td>\n",
       "      <td>0.00</td>\n",
       "      <td>0</td>\n",
       "      <td>0</td>\n",
       "    </tr>\n",
       "  </tbody>\n",
       "</table>\n",
       "<p>1500000 rows × 11 columns</p>\n",
       "</div>"
      ],
      "text/plain": [
       "         step      type     amount     nameOrig  oldbalanceOrg  \\\n",
       "258520     14  TRANSFER  83,304.61  C1849472116           0.00   \n",
       "882965     42  TRANSFER 179,817.91   C558833408           0.00   \n",
       "572518     24  TRANSFER 875,847.75  C1206642984           0.00   \n",
       "882962     42  TRANSFER 387,521.79   C115303301           0.00   \n",
       "1048515    95  TRANSFER 169,285.09   C969909855     140,856.00   \n",
       "...       ...       ...        ...          ...            ...   \n",
       "818649     40   CASH_IN   3,928.18   C351161366      21,515.00   \n",
       "818643     40   CASH_IN 180,135.27   C487276447     231,593.00   \n",
       "818627     40   CASH_IN 229,902.43   C921389747     942,585.04   \n",
       "818620     40   CASH_IN 211,381.67   C384438998      13,432.00   \n",
       "1499999   143   CASH_IN 172,331.41  C1684604981       1,041.00   \n",
       "\n",
       "         newbalanceOrig     nameDest  oldbalanceDest  newbalanceDest  isFraud  \\\n",
       "258520             0.00  C1210929525      332,730.60      416,035.21        0   \n",
       "882965             0.00  C1569006508      858,207.55    1,038,025.46        0   \n",
       "572518             0.00   C257229326    5,616,736.95    6,492,584.69        0   \n",
       "882962             0.00    C65098329      573,021.61    1,310,251.50        0   \n",
       "1048515            0.00  C1753252271            0.00      169,285.09        0   \n",
       "...                 ...          ...             ...             ...      ...   \n",
       "818649        25,443.18   C358227421    1,215,784.09    1,211,855.90        0   \n",
       "818643       411,728.27   C130685659            0.00            0.00        0   \n",
       "818627     1,172,487.47   C375861708            0.00            0.00        0   \n",
       "818620       224,813.67   C814270414      557,695.58      346,313.91        0   \n",
       "1499999      173,372.41  C1915955710       24,766.55            0.00        0   \n",
       "\n",
       "         isFlaggedFraud  \n",
       "258520                0  \n",
       "882965                0  \n",
       "572518                0  \n",
       "882962                0  \n",
       "1048515               0  \n",
       "...                 ...  \n",
       "818649                0  \n",
       "818643                0  \n",
       "818627                0  \n",
       "818620                0  \n",
       "1499999               0  \n",
       "\n",
       "[1500000 rows x 11 columns]"
      ]
     },
     "execution_count": 13,
     "metadata": {},
     "output_type": "execute_result"
    }
   ],
   "source": [
    "df_type_ordered"
   ]
  },
  {
   "cell_type": "code",
   "execution_count": 14,
   "metadata": {},
   "outputs": [
    {
     "data": {
      "image/png": "[encoded data removed]",
      "text/plain": [
       "<Figure size 864x432 with 1 Axes>"
      ]
     },
     "metadata": {
      "needs_background": "light"
     },
     "output_type": "display_data"
    }
   ],
   "source": [
    "plt.figure(figsize=(12, 6))\n",
    "plt.title('Tipos de Transações', fontdict=TITLE_FONT)\n",
    "\n",
    "ax = sns.barplot(x=df_type_ordered['type'].unique(), y=df_type_ordered['type'].value_counts(), palette='Paired')\n",
    "for container in ax.containers:\n",
    "    ax.bar_label(container)\n",
    "\n",
    "plt.yticks(np.arange(0, 6e5+1, 2e5))\n",
    "\n",
    "plt.show()"
   ]
  },
  {
   "cell_type": "markdown",
   "metadata": {},
   "source": [
    "Os tipos de transação mais frequente são de transferencia e pagamento.  \n",
    "Será que podemos observar esse mesmo comportamento entre as fraudes?"
   ]
  },
  {
   "cell_type": "code",
   "execution_count": 15,
   "metadata": {},
   "outputs": [
    {
     "data": {
      "image/png": "[encoded data removed]",
      "text/plain": [
       "<Figure size 864x432 with 1 Axes>"
      ]
     },
     "metadata": {
      "needs_background": "light"
     },
     "output_type": "display_data"
    }
   ],
   "source": [
    "only_fraud = df_type_ordered.query('isFraud==1').copy()\n",
    "\n",
    "plt.figure(figsize=(12, 6))\n",
    "plt.title('Tipos de Transações', fontdict=TITLE_FONT)\n",
    "\n",
    "ax = sns.barplot(x=only_fraud['type'].unique(), y=only_fraud['type'].value_counts(), palette='Paired')\n",
    "for container in ax.containers:\n",
    "    ax.bar_label(container)\n",
    "\n",
    "plt.yticks(np.arange(0, 1000, 200))\n",
    "\n",
    "plt.show()"
   ]
  },
  {
   "cell_type": "markdown",
   "metadata": {},
   "source": [
    "Uma grande surpresa: só temos fraudes em casos de transferências e saques.  \n",
    "Dessa forma, na fase de modelagem podemos manter somente esses dois tipos de movimetanções."
   ]
  },
  {
   "cell_type": "code",
   "execution_count": 16,
   "metadata": {},
   "outputs": [
    {
     "data": {
      "text/html": [
       "<div>\n",
       "<style scoped>\n",
       "    .dataframe tbody tr th:only-of-type {\n",
       "        vertical-align: middle;\n",
       "    }\n",
       "\n",
       "    .dataframe tbody tr th {\n",
       "        vertical-align: top;\n",
       "    }\n",
       "\n",
       "    .dataframe thead th {\n",
       "        text-align: right;\n",
       "    }\n",
       "</style>\n",
       "<table border=\"1\" class=\"dataframe\">\n",
       "  <thead>\n",
       "    <tr style=\"text-align: right;\">\n",
       "      <th></th>\n",
       "      <th>step</th>\n",
       "      <th>type</th>\n",
       "      <th>amount</th>\n",
       "      <th>nameOrig</th>\n",
       "      <th>oldbalanceOrg</th>\n",
       "      <th>newbalanceOrig</th>\n",
       "      <th>nameDest</th>\n",
       "      <th>oldbalanceDest</th>\n",
       "      <th>newbalanceDest</th>\n",
       "      <th>isFraud</th>\n",
       "      <th>isFlaggedFraud</th>\n",
       "    </tr>\n",
       "  </thead>\n",
       "  <tbody>\n",
       "    <tr>\n",
       "      <th>2</th>\n",
       "      <td>1</td>\n",
       "      <td>TRANSFER</td>\n",
       "      <td>181.00</td>\n",
       "      <td>C1305486145</td>\n",
       "      <td>181.00</td>\n",
       "      <td>0.00</td>\n",
       "      <td>C553264065</td>\n",
       "      <td>0.00</td>\n",
       "      <td>0.00</td>\n",
       "      <td>1</td>\n",
       "      <td>0</td>\n",
       "    </tr>\n",
       "    <tr>\n",
       "      <th>3</th>\n",
       "      <td>1</td>\n",
       "      <td>CASH_OUT</td>\n",
       "      <td>181.00</td>\n",
       "      <td>C840083671</td>\n",
       "      <td>181.00</td>\n",
       "      <td>0.00</td>\n",
       "      <td>C38997010</td>\n",
       "      <td>21,182.00</td>\n",
       "      <td>0.00</td>\n",
       "      <td>1</td>\n",
       "      <td>0</td>\n",
       "    </tr>\n",
       "    <tr>\n",
       "      <th>15</th>\n",
       "      <td>1</td>\n",
       "      <td>CASH_OUT</td>\n",
       "      <td>229,133.94</td>\n",
       "      <td>C905080434</td>\n",
       "      <td>15,325.00</td>\n",
       "      <td>0.00</td>\n",
       "      <td>C476402209</td>\n",
       "      <td>5,083.00</td>\n",
       "      <td>51,513.44</td>\n",
       "      <td>0</td>\n",
       "      <td>0</td>\n",
       "    </tr>\n",
       "    <tr>\n",
       "      <th>19</th>\n",
       "      <td>1</td>\n",
       "      <td>TRANSFER</td>\n",
       "      <td>215,310.30</td>\n",
       "      <td>C1670993182</td>\n",
       "      <td>705.00</td>\n",
       "      <td>0.00</td>\n",
       "      <td>C1100439041</td>\n",
       "      <td>22,425.00</td>\n",
       "      <td>0.00</td>\n",
       "      <td>0</td>\n",
       "      <td>0</td>\n",
       "    </tr>\n",
       "    <tr>\n",
       "      <th>24</th>\n",
       "      <td>1</td>\n",
       "      <td>TRANSFER</td>\n",
       "      <td>311,685.89</td>\n",
       "      <td>C1984094095</td>\n",
       "      <td>10,835.00</td>\n",
       "      <td>0.00</td>\n",
       "      <td>C932583850</td>\n",
       "      <td>6,267.00</td>\n",
       "      <td>2,719,172.89</td>\n",
       "      <td>0</td>\n",
       "      <td>0</td>\n",
       "    </tr>\n",
       "  </tbody>\n",
       "</table>\n",
       "</div>"
      ],
      "text/plain": [
       "    step      type     amount     nameOrig  oldbalanceOrg  newbalanceOrig  \\\n",
       "2      1  TRANSFER     181.00  C1305486145         181.00            0.00   \n",
       "3      1  CASH_OUT     181.00   C840083671         181.00            0.00   \n",
       "15     1  CASH_OUT 229,133.94   C905080434      15,325.00            0.00   \n",
       "19     1  TRANSFER 215,310.30  C1670993182         705.00            0.00   \n",
       "24     1  TRANSFER 311,685.89  C1984094095      10,835.00            0.00   \n",
       "\n",
       "       nameDest  oldbalanceDest  newbalanceDest  isFraud  isFlaggedFraud  \n",
       "2    C553264065            0.00            0.00        1               0  \n",
       "3     C38997010       21,182.00            0.00        1               0  \n",
       "15   C476402209        5,083.00       51,513.44        0               0  \n",
       "19  C1100439041       22,425.00            0.00        0               0  \n",
       "24   C932583850        6,267.00    2,719,172.89        0               0  "
      ]
     },
     "execution_count": 16,
     "metadata": {},
     "output_type": "execute_result"
    }
   ],
   "source": [
    "transf_type = ['TRANSFER', 'CASH_OUT']\n",
    "\n",
    "df_filtered = df.query('type in @transf_type').copy()\n",
    "\n",
    "df_filtered.head()"
   ]
  },
  {
   "cell_type": "code",
   "execution_count": 17,
   "metadata": {},
   "outputs": [
    {
     "data": {
      "text/plain": [
       "0   99.76\n",
       "1    0.24\n",
       "Name: isFraud, dtype: float64"
      ]
     },
     "execution_count": 17,
     "metadata": {},
     "output_type": "execute_result"
    }
   ],
   "source": [
    "df_filtered['isFraud'].value_counts(normalize=True) * 100"
   ]
  },
  {
   "cell_type": "markdown",
   "metadata": {},
   "source": [
    "### Amount"
   ]
  },
  {
   "cell_type": "code",
   "execution_count": 18,
   "metadata": {},
   "outputs": [
    {
     "data": {
      "text/html": [
       "<div>\n",
       "<style scoped>\n",
       "    .dataframe tbody tr th:only-of-type {\n",
       "        vertical-align: middle;\n",
       "    }\n",
       "\n",
       "    .dataframe tbody tr th {\n",
       "        vertical-align: top;\n",
       "    }\n",
       "\n",
       "    .dataframe thead th {\n",
       "        text-align: right;\n",
       "    }\n",
       "</style>\n",
       "<table border=\"1\" class=\"dataframe\">\n",
       "  <thead>\n",
       "    <tr style=\"text-align: right;\">\n",
       "      <th></th>\n",
       "      <th>step</th>\n",
       "      <th>amount</th>\n",
       "      <th>oldbalanceOrg</th>\n",
       "      <th>newbalanceOrig</th>\n",
       "      <th>oldbalanceDest</th>\n",
       "      <th>newbalanceDest</th>\n",
       "      <th>isFraud</th>\n",
       "      <th>isFlaggedFraud</th>\n",
       "    </tr>\n",
       "  </thead>\n",
       "  <tbody>\n",
       "    <tr>\n",
       "      <th>count</th>\n",
       "      <td>659,204.00</td>\n",
       "      <td>659,204.00</td>\n",
       "      <td>659,204.00</td>\n",
       "      <td>659,204.00</td>\n",
       "      <td>659,204.00</td>\n",
       "      <td>659,204.00</td>\n",
       "      <td>659,204.00</td>\n",
       "      <td>659,204.00</td>\n",
       "    </tr>\n",
       "    <tr>\n",
       "      <th>mean</th>\n",
       "      <td>59.21</td>\n",
       "      <td>271,477.09</td>\n",
       "      <td>54,334.34</td>\n",
       "      <td>21,176.07</td>\n",
       "      <td>1,505,833.66</td>\n",
       "      <td>1,834,182.12</td>\n",
       "      <td>0.00</td>\n",
       "      <td>0.00</td>\n",
       "    </tr>\n",
       "    <tr>\n",
       "      <th>std</th>\n",
       "      <td>51.02</td>\n",
       "      <td>353,639.98</td>\n",
       "      <td>209,897.11</td>\n",
       "      <td>135,436.45</td>\n",
       "      <td>2,708,975.10</td>\n",
       "      <td>2,831,213.53</td>\n",
       "      <td>0.05</td>\n",
       "      <td>0.00</td>\n",
       "    </tr>\n",
       "    <tr>\n",
       "      <th>min</th>\n",
       "      <td>1.00</td>\n",
       "      <td>0.37</td>\n",
       "      <td>0.00</td>\n",
       "      <td>0.00</td>\n",
       "      <td>0.00</td>\n",
       "      <td>0.00</td>\n",
       "      <td>0.00</td>\n",
       "      <td>0.00</td>\n",
       "    </tr>\n",
       "    <tr>\n",
       "      <th>25%</th>\n",
       "      <td>17.00</td>\n",
       "      <td>86,909.74</td>\n",
       "      <td>0.00</td>\n",
       "      <td>0.00</td>\n",
       "      <td>125,743.54</td>\n",
       "      <td>340,815.98</td>\n",
       "      <td>0.00</td>\n",
       "      <td>0.00</td>\n",
       "    </tr>\n",
       "    <tr>\n",
       "      <th>50%</th>\n",
       "      <td>38.00</td>\n",
       "      <td>178,940.89</td>\n",
       "      <td>286.00</td>\n",
       "      <td>0.00</td>\n",
       "      <td>556,436.14</td>\n",
       "      <td>866,673.78</td>\n",
       "      <td>0.00</td>\n",
       "      <td>0.00</td>\n",
       "    </tr>\n",
       "    <tr>\n",
       "      <th>75%</th>\n",
       "      <td>131.00</td>\n",
       "      <td>318,524.40</td>\n",
       "      <td>31,957.00</td>\n",
       "      <td>0.00</td>\n",
       "      <td>1,675,147.69</td>\n",
       "      <td>2,112,130.08</td>\n",
       "      <td>0.00</td>\n",
       "      <td>0.00</td>\n",
       "    </tr>\n",
       "    <tr>\n",
       "      <th>max</th>\n",
       "      <td>143.00</td>\n",
       "      <td>10,000,000.00</td>\n",
       "      <td>19,887,819.06</td>\n",
       "      <td>13,796,061.54</td>\n",
       "      <td>42,169,156.09</td>\n",
       "      <td>42,207,404.59</td>\n",
       "      <td>1.00</td>\n",
       "      <td>0.00</td>\n",
       "    </tr>\n",
       "  </tbody>\n",
       "</table>\n",
       "</div>"
      ],
      "text/plain": [
       "            step        amount  oldbalanceOrg  newbalanceOrig  oldbalanceDest  \\\n",
       "count 659,204.00    659,204.00     659,204.00      659,204.00      659,204.00   \n",
       "mean       59.21    271,477.09      54,334.34       21,176.07    1,505,833.66   \n",
       "std        51.02    353,639.98     209,897.11      135,436.45    2,708,975.10   \n",
       "min         1.00          0.37           0.00            0.00            0.00   \n",
       "25%        17.00     86,909.74           0.00            0.00      125,743.54   \n",
       "50%        38.00    178,940.89         286.00            0.00      556,436.14   \n",
       "75%       131.00    318,524.40      31,957.00            0.00    1,675,147.69   \n",
       "max       143.00 10,000,000.00  19,887,819.06   13,796,061.54   42,169,156.09   \n",
       "\n",
       "       newbalanceDest    isFraud  isFlaggedFraud  \n",
       "count      659,204.00 659,204.00      659,204.00  \n",
       "mean     1,834,182.12       0.00            0.00  \n",
       "std      2,831,213.53       0.05            0.00  \n",
       "min              0.00       0.00            0.00  \n",
       "25%        340,815.98       0.00            0.00  \n",
       "50%        866,673.78       0.00            0.00  \n",
       "75%      2,112,130.08       0.00            0.00  \n",
       "max     42,207,404.59       1.00            0.00  "
      ]
     },
     "execution_count": 18,
     "metadata": {},
     "output_type": "execute_result"
    }
   ],
   "source": [
    "df_filtered.describe()"
   ]
  },
  {
   "cell_type": "code",
   "execution_count": 19,
   "metadata": {},
   "outputs": [
    {
     "data": {
      "text/plain": [
       "0.37"
      ]
     },
     "execution_count": 19,
     "metadata": {},
     "output_type": "execute_result"
    }
   ],
   "source": [
    "df_filtered['amount'].min()"
   ]
  },
  {
   "cell_type": "code",
   "execution_count": 20,
   "metadata": {},
   "outputs": [
    {
     "data": {
      "text/plain": [
       "10000000.0"
      ]
     },
     "execution_count": 20,
     "metadata": {},
     "output_type": "execute_result"
    }
   ],
   "source": [
    "df_filtered['amount'].max()"
   ]
  },
  {
   "cell_type": "code",
   "execution_count": 21,
   "metadata": {},
   "outputs": [
    {
     "data": {
      "image/png": "[encoded data removed]",
      "text/plain": [
       "<Figure size 864x432 with 1 Axes>"
      ]
     },
     "metadata": {
      "needs_background": "light"
     },
     "output_type": "display_data"
    }
   ],
   "source": [
    "plt.figure(figsize=(12, 6))\n",
    "plt.title('Distribuição da Quantia', fontdict=TITLE_FONT)\n",
    "sns.histplot(data=df_filtered, x='amount', bins=500)\n",
    "plt.xticks(np.arange(0, 1e7+1, 500000))\n",
    "plt.yticks(np.arange(0, 40001, 5000))\n",
    "\n",
    "plt.show()"
   ]
  },
  {
   "cell_type": "markdown",
   "metadata": {},
   "source": [
    "Vemos aqui uma distribuição distorcida à direita, o que indica que a maior porção das transações são de quantias baixas.  \n",
    "O menor valor encontrado dentro do dataset foi de \\$0,37 e o maior de \\$10M, um espaçamento considerável."
   ]
  },
  {
   "cell_type": "code",
   "execution_count": 22,
   "metadata": {},
   "outputs": [
    {
     "data": {
      "text/html": [
       "<div>\n",
       "<style scoped>\n",
       "    .dataframe tbody tr th:only-of-type {\n",
       "        vertical-align: middle;\n",
       "    }\n",
       "\n",
       "    .dataframe tbody tr th {\n",
       "        vertical-align: top;\n",
       "    }\n",
       "\n",
       "    .dataframe thead th {\n",
       "        text-align: right;\n",
       "    }\n",
       "</style>\n",
       "<table border=\"1\" class=\"dataframe\">\n",
       "  <thead>\n",
       "    <tr style=\"text-align: right;\">\n",
       "      <th></th>\n",
       "      <th>step</th>\n",
       "      <th>type</th>\n",
       "      <th>amount</th>\n",
       "      <th>nameOrig</th>\n",
       "      <th>oldbalanceOrg</th>\n",
       "      <th>newbalanceOrig</th>\n",
       "      <th>nameDest</th>\n",
       "      <th>oldbalanceDest</th>\n",
       "      <th>newbalanceDest</th>\n",
       "      <th>isFraud</th>\n",
       "      <th>isFlaggedFraud</th>\n",
       "    </tr>\n",
       "  </thead>\n",
       "  <tbody>\n",
       "    <tr>\n",
       "      <th>2</th>\n",
       "      <td>1</td>\n",
       "      <td>TRANSFER</td>\n",
       "      <td>181.00</td>\n",
       "      <td>C1305486145</td>\n",
       "      <td>181.00</td>\n",
       "      <td>0.00</td>\n",
       "      <td>C553264065</td>\n",
       "      <td>0.00</td>\n",
       "      <td>0.00</td>\n",
       "      <td>1</td>\n",
       "      <td>0</td>\n",
       "    </tr>\n",
       "    <tr>\n",
       "      <th>3</th>\n",
       "      <td>1</td>\n",
       "      <td>CASH_OUT</td>\n",
       "      <td>181.00</td>\n",
       "      <td>C840083671</td>\n",
       "      <td>181.00</td>\n",
       "      <td>0.00</td>\n",
       "      <td>C38997010</td>\n",
       "      <td>21,182.00</td>\n",
       "      <td>0.00</td>\n",
       "      <td>1</td>\n",
       "      <td>0</td>\n",
       "    </tr>\n",
       "    <tr>\n",
       "      <th>15</th>\n",
       "      <td>1</td>\n",
       "      <td>CASH_OUT</td>\n",
       "      <td>229,133.94</td>\n",
       "      <td>C905080434</td>\n",
       "      <td>15,325.00</td>\n",
       "      <td>0.00</td>\n",
       "      <td>C476402209</td>\n",
       "      <td>5,083.00</td>\n",
       "      <td>51,513.44</td>\n",
       "      <td>0</td>\n",
       "      <td>0</td>\n",
       "    </tr>\n",
       "    <tr>\n",
       "      <th>19</th>\n",
       "      <td>1</td>\n",
       "      <td>TRANSFER</td>\n",
       "      <td>215,310.30</td>\n",
       "      <td>C1670993182</td>\n",
       "      <td>705.00</td>\n",
       "      <td>0.00</td>\n",
       "      <td>C1100439041</td>\n",
       "      <td>22,425.00</td>\n",
       "      <td>0.00</td>\n",
       "      <td>0</td>\n",
       "      <td>0</td>\n",
       "    </tr>\n",
       "    <tr>\n",
       "      <th>24</th>\n",
       "      <td>1</td>\n",
       "      <td>TRANSFER</td>\n",
       "      <td>311,685.89</td>\n",
       "      <td>C1984094095</td>\n",
       "      <td>10,835.00</td>\n",
       "      <td>0.00</td>\n",
       "      <td>C932583850</td>\n",
       "      <td>6,267.00</td>\n",
       "      <td>2,719,172.89</td>\n",
       "      <td>0</td>\n",
       "      <td>0</td>\n",
       "    </tr>\n",
       "    <tr>\n",
       "      <th>...</th>\n",
       "      <td>...</td>\n",
       "      <td>...</td>\n",
       "      <td>...</td>\n",
       "      <td>...</td>\n",
       "      <td>...</td>\n",
       "      <td>...</td>\n",
       "      <td>...</td>\n",
       "      <td>...</td>\n",
       "      <td>...</td>\n",
       "      <td>...</td>\n",
       "      <td>...</td>\n",
       "    </tr>\n",
       "    <tr>\n",
       "      <th>1499923</th>\n",
       "      <td>143</td>\n",
       "      <td>TRANSFER</td>\n",
       "      <td>561,483.35</td>\n",
       "      <td>C1444576742</td>\n",
       "      <td>0.00</td>\n",
       "      <td>0.00</td>\n",
       "      <td>C348049529</td>\n",
       "      <td>1,306,825.35</td>\n",
       "      <td>1,770,314.58</td>\n",
       "      <td>0</td>\n",
       "      <td>0</td>\n",
       "    </tr>\n",
       "    <tr>\n",
       "      <th>1499924</th>\n",
       "      <td>143</td>\n",
       "      <td>TRANSFER</td>\n",
       "      <td>196,751.21</td>\n",
       "      <td>C1001986271</td>\n",
       "      <td>30,199.00</td>\n",
       "      <td>0.00</td>\n",
       "      <td>C1134680331</td>\n",
       "      <td>138,715.26</td>\n",
       "      <td>335,466.46</td>\n",
       "      <td>0</td>\n",
       "      <td>0</td>\n",
       "    </tr>\n",
       "    <tr>\n",
       "      <th>1499932</th>\n",
       "      <td>143</td>\n",
       "      <td>TRANSFER</td>\n",
       "      <td>17,900.69</td>\n",
       "      <td>C486733099</td>\n",
       "      <td>104,815.00</td>\n",
       "      <td>86,914.31</td>\n",
       "      <td>C1121989629</td>\n",
       "      <td>530,387.42</td>\n",
       "      <td>548,288.11</td>\n",
       "      <td>0</td>\n",
       "      <td>0</td>\n",
       "    </tr>\n",
       "    <tr>\n",
       "      <th>1499970</th>\n",
       "      <td>143</td>\n",
       "      <td>TRANSFER</td>\n",
       "      <td>317,982.84</td>\n",
       "      <td>C1943461768</td>\n",
       "      <td>20,909.00</td>\n",
       "      <td>0.00</td>\n",
       "      <td>C429511913</td>\n",
       "      <td>2,194.63</td>\n",
       "      <td>258,791.43</td>\n",
       "      <td>0</td>\n",
       "      <td>0</td>\n",
       "    </tr>\n",
       "    <tr>\n",
       "      <th>1499996</th>\n",
       "      <td>143</td>\n",
       "      <td>CASH_OUT</td>\n",
       "      <td>365,830.64</td>\n",
       "      <td>C931603141</td>\n",
       "      <td>595.00</td>\n",
       "      <td>0.00</td>\n",
       "      <td>C382389804</td>\n",
       "      <td>0.00</td>\n",
       "      <td>365,830.64</td>\n",
       "      <td>0</td>\n",
       "      <td>0</td>\n",
       "    </tr>\n",
       "  </tbody>\n",
       "</table>\n",
       "<p>659204 rows × 11 columns</p>\n",
       "</div>"
      ],
      "text/plain": [
       "         step      type     amount     nameOrig  oldbalanceOrg  \\\n",
       "2           1  TRANSFER     181.00  C1305486145         181.00   \n",
       "3           1  CASH_OUT     181.00   C840083671         181.00   \n",
       "15          1  CASH_OUT 229,133.94   C905080434      15,325.00   \n",
       "19          1  TRANSFER 215,310.30  C1670993182         705.00   \n",
       "24          1  TRANSFER 311,685.89  C1984094095      10,835.00   \n",
       "...       ...       ...        ...          ...            ...   \n",
       "1499923   143  TRANSFER 561,483.35  C1444576742           0.00   \n",
       "1499924   143  TRANSFER 196,751.21  C1001986271      30,199.00   \n",
       "1499932   143  TRANSFER  17,900.69   C486733099     104,815.00   \n",
       "1499970   143  TRANSFER 317,982.84  C1943461768      20,909.00   \n",
       "1499996   143  CASH_OUT 365,830.64   C931603141         595.00   \n",
       "\n",
       "         newbalanceOrig     nameDest  oldbalanceDest  newbalanceDest  isFraud  \\\n",
       "2                  0.00   C553264065            0.00            0.00        1   \n",
       "3                  0.00    C38997010       21,182.00            0.00        1   \n",
       "15                 0.00   C476402209        5,083.00       51,513.44        0   \n",
       "19                 0.00  C1100439041       22,425.00            0.00        0   \n",
       "24                 0.00   C932583850        6,267.00    2,719,172.89        0   \n",
       "...                 ...          ...             ...             ...      ...   \n",
       "1499923            0.00   C348049529    1,306,825.35    1,770,314.58        0   \n",
       "1499924            0.00  C1134680331      138,715.26      335,466.46        0   \n",
       "1499932       86,914.31  C1121989629      530,387.42      548,288.11        0   \n",
       "1499970            0.00   C429511913        2,194.63      258,791.43        0   \n",
       "1499996            0.00   C382389804            0.00      365,830.64        0   \n",
       "\n",
       "         isFlaggedFraud  \n",
       "2                     0  \n",
       "3                     0  \n",
       "15                    0  \n",
       "19                    0  \n",
       "24                    0  \n",
       "...                 ...  \n",
       "1499923               0  \n",
       "1499924               0  \n",
       "1499932               0  \n",
       "1499970               0  \n",
       "1499996               0  \n",
       "\n",
       "[659204 rows x 11 columns]"
      ]
     },
     "execution_count": 22,
     "metadata": {},
     "output_type": "execute_result"
    }
   ],
   "source": [
    "df_filtered"
   ]
  },
  {
   "cell_type": "markdown",
   "metadata": {},
   "source": [
    "### Name (Conta de origem e destino)  \n",
    "Vamos verificar as colunas de conta origem (nameOrig) e destino (nameDest)."
   ]
  },
  {
   "cell_type": "code",
   "execution_count": 23,
   "metadata": {},
   "outputs": [
    {
     "name": "stdout",
     "output_type": "stream",
     "text": [
      "Quantidade de registro no dataset: 659,204\n",
      "Quantidade de conta origem único: 659,080\n",
      "Quantidade de conta origem destino: 122,393\n"
     ]
    }
   ],
   "source": [
    "print('Quantidade de registro no dataset: {:,}'.format(df_filtered.shape[0]))\n",
    "print('Quantidade de conta origem único: {:,}'.format(df_filtered['nameOrig'].nunique()))\n",
    "print('Quantidade de conta origem destino: {:,}'.format(df_filtered['nameDest'].nunique()))\n"
   ]
  },
  {
   "cell_type": "markdown",
   "metadata": {},
   "source": [
    "Agora quero verificar se existem casos de transações que em que as contas origem e destino são as mesmas, e se isso pode ser um indicador de fraude ou não."
   ]
  },
  {
   "cell_type": "code",
   "execution_count": 24,
   "metadata": {},
   "outputs": [
    {
     "data": {
      "text/html": [
       "<div>\n",
       "<style scoped>\n",
       "    .dataframe tbody tr th:only-of-type {\n",
       "        vertical-align: middle;\n",
       "    }\n",
       "\n",
       "    .dataframe tbody tr th {\n",
       "        vertical-align: top;\n",
       "    }\n",
       "\n",
       "    .dataframe thead th {\n",
       "        text-align: right;\n",
       "    }\n",
       "</style>\n",
       "<table border=\"1\" class=\"dataframe\">\n",
       "  <thead>\n",
       "    <tr style=\"text-align: right;\">\n",
       "      <th></th>\n",
       "      <th>step</th>\n",
       "      <th>type</th>\n",
       "      <th>amount</th>\n",
       "      <th>nameOrig</th>\n",
       "      <th>oldbalanceOrg</th>\n",
       "      <th>newbalanceOrig</th>\n",
       "      <th>nameDest</th>\n",
       "      <th>oldbalanceDest</th>\n",
       "      <th>newbalanceDest</th>\n",
       "      <th>isFraud</th>\n",
       "      <th>isFlaggedFraud</th>\n",
       "    </tr>\n",
       "  </thead>\n",
       "  <tbody>\n",
       "  </tbody>\n",
       "</table>\n",
       "</div>"
      ],
      "text/plain": [
       "Empty DataFrame\n",
       "Columns: [step, type, amount, nameOrig, oldbalanceOrg, newbalanceOrig, nameDest, oldbalanceDest, newbalanceDest, isFraud, isFlaggedFraud]\n",
       "Index: []"
      ]
     },
     "execution_count": 24,
     "metadata": {},
     "output_type": "execute_result"
    }
   ],
   "source": [
    "df_filtered.query('nameOrig == nameDest')"
   ]
  },
  {
   "cell_type": "markdown",
   "metadata": {},
   "source": [
    "Aparentemente não existem transações onde o remetente e o destinatário são os mesmos.  \n",
    "Vamos verificar também se a frequência em que a mesma conta realiza uma movimentação."
   ]
  },
  {
   "cell_type": "code",
   "execution_count": 25,
   "metadata": {},
   "outputs": [
    {
     "name": "stdout",
     "output_type": "stream",
     "text": [
      "Qtd de contas que movimentaram mais de uma vez:  124\n"
     ]
    }
   ],
   "source": [
    "print('Qtd de contas que movimentaram mais de uma vez: ', sum(df_filtered['nameOrig'].value_counts(ascending=False) > 1))"
   ]
  },
  {
   "cell_type": "markdown",
   "metadata": {},
   "source": [
    "Como temos várias contas diferentes, a distribuição parece mais uniforme."
   ]
  },
  {
   "cell_type": "code",
   "execution_count": 26,
   "metadata": {},
   "outputs": [
    {
     "data": {
      "text/plain": [
       "92507"
      ]
     },
     "execution_count": 26,
     "metadata": {},
     "output_type": "execute_result"
    }
   ],
   "source": [
    "sum(df_filtered['nameDest'].value_counts(ascending=False) > 1)"
   ]
  },
  {
   "cell_type": "code",
   "execution_count": 27,
   "metadata": {},
   "outputs": [
    {
     "data": {
      "text/plain": [
       "C1286084959    64\n",
       "C1360767589    60\n",
       "C248609774     60\n",
       "C2083562754    57\n",
       "C665576141     57\n",
       "               ..\n",
       "C1884798465     1\n",
       "C1394225013     1\n",
       "C360198352      1\n",
       "C290645941      1\n",
       "C382389804      1\n",
       "Name: nameDest, Length: 122393, dtype: int64"
      ]
     },
     "execution_count": 27,
     "metadata": {},
     "output_type": "execute_result"
    }
   ],
   "source": [
    "df_filtered['nameDest'].value_counts(ascending=False)"
   ]
  },
  {
   "cell_type": "code",
   "execution_count": 28,
   "metadata": {},
   "outputs": [
    {
     "data": {
      "text/plain": [
       "nameDest     nameDest   \n",
       "C1286084959  C1286084959    64\n",
       "C1360767589  C1360767589    60\n",
       "C248609774   C248609774     60\n",
       "C2083562754  C2083562754    57\n",
       "C665576141   C665576141     57\n",
       "C97730845    C97730845      56\n",
       "C306206744   C306206744     56\n",
       "C2006081398  C2006081398    55\n",
       "C985934102   C985934102     54\n",
       "C1590550415  C1590550415    53\n",
       "Name: nameDest, dtype: int64"
      ]
     },
     "execution_count": 28,
     "metadata": {},
     "output_type": "execute_result"
    }
   ],
   "source": [
    "counts_dest = df_filtered.groupby('nameDest')['nameDest'].value_counts()\n",
    "counts_dest[counts_dest > 1].sort_values(ascending=False)[:10]"
   ]
  },
  {
   "cell_type": "markdown",
   "metadata": {},
   "source": [
    "Será que uma mesma conta pode ter várias fraudes?"
   ]
  },
  {
   "cell_type": "code",
   "execution_count": 29,
   "metadata": {},
   "outputs": [
    {
     "name": "stdout",
     "output_type": "stream",
     "text": [
      "Qtd de conta destino com mais que uma fraude: 22\n",
      "Qtd máxima que uma mesma conta fraudou: 2\n"
     ]
    }
   ],
   "source": [
    "count_fraud_by_dest = df_filtered.query('isFraud == 1').groupby('nameDest')['nameDest'].count()\n",
    "print(f'Qtd de conta destino com mais que uma fraude: {count_fraud_by_dest[count_fraud_by_dest > 1].sum()}')\n",
    "print(f'Qtd máxima que uma mesma conta fraudou: {count_fraud_by_dest[count_fraud_by_dest > 1].max()}')"
   ]
  },
  {
   "cell_type": "markdown",
   "metadata": {},
   "source": [
    "Analisando as contas de origem e destino, vemos que apesar do destino do dinheiro aparecer mais vezes, isso não parece indicar que essas features serão úteis na modelagem.  \n",
    "Portanto elas serão eliminadas do modelo."
   ]
  },
  {
   "cell_type": "markdown",
   "metadata": {},
   "source": [
    "### Balances (Saldos)\n",
    "O dataset nos fornece quatro variáveis referentes ao saldo: saldo inicial e final para conta de origem e destino.  \n",
    "Vamos avaliar rapidamente essas variáveis."
   ]
  },
  {
   "cell_type": "markdown",
   "metadata": {},
   "source": [
    "#### oldbalanceOrg"
   ]
  },
  {
   "cell_type": "code",
   "execution_count": 30,
   "metadata": {},
   "outputs": [
    {
     "data": {
      "text/plain": [
       "count      659,204.00\n",
       "mean        54,334.34\n",
       "std        209,897.11\n",
       "min              0.00\n",
       "25%              0.00\n",
       "50%            286.00\n",
       "75%         31,957.00\n",
       "max     19,887,819.06\n",
       "Name: oldbalanceOrg, dtype: float64"
      ]
     },
     "execution_count": 30,
     "metadata": {},
     "output_type": "execute_result"
    }
   ],
   "source": [
    "df_filtered['oldbalanceOrg'].describe()"
   ]
  },
  {
   "cell_type": "code",
   "execution_count": 31,
   "metadata": {},
   "outputs": [
    {
     "data": {
      "image/png": "[encoded data removed]",
      "text/plain": [
       "<Figure size 864x432 with 1 Axes>"
      ]
     },
     "metadata": {
      "needs_background": "light"
     },
     "output_type": "display_data"
    }
   ],
   "source": [
    "plt.figure(figsize=(12, 6))\n",
    "plt.title('Distribuição da oldbalanceOrg', fontdict=TITLE_FONT)\n",
    "sns.histplot(x=df_filtered['oldbalanceOrg']/1000, bins=500)\n",
    "# plt.xticks(np.arange(0, 1_000_000_000+1, 500_000_000))\n",
    "plt.yticks(np.arange(0, 5e5 + 1, 5e4))\n",
    "\n",
    "plt.show()"
   ]
  },
  {
   "cell_type": "markdown",
   "metadata": {},
   "source": [
    "#### newbalanceOrig"
   ]
  },
  {
   "cell_type": "code",
   "execution_count": 32,
   "metadata": {},
   "outputs": [
    {
     "data": {
      "text/plain": [
       "count      659,204.00\n",
       "mean        21,176.07\n",
       "std        135,436.45\n",
       "min              0.00\n",
       "25%              0.00\n",
       "50%              0.00\n",
       "75%              0.00\n",
       "max     13,796,061.54\n",
       "Name: newbalanceOrig, dtype: float64"
      ]
     },
     "execution_count": 32,
     "metadata": {},
     "output_type": "execute_result"
    }
   ],
   "source": [
    "df_filtered['newbalanceOrig'].describe()"
   ]
  },
  {
   "cell_type": "code",
   "execution_count": 33,
   "metadata": {},
   "outputs": [
    {
     "data": {
      "image/png": "[encoded data removed]",
      "text/plain": [
       "<Figure size 864x432 with 1 Axes>"
      ]
     },
     "metadata": {
      "needs_background": "light"
     },
     "output_type": "display_data"
    }
   ],
   "source": [
    "plt.figure(figsize=(12, 6))\n",
    "plt.title('Distribuição da newbalanceOrig', fontdict=TITLE_FONT)\n",
    "sns.histplot(x=df_filtered['newbalanceOrig']/1000, bins=50)\n",
    "# plt.xticks(np.arange(0, 1_000_000_000+1, 500_000_000))\n",
    "plt.yticks(np.arange(0, 65e4 + 1, 5e4))\n",
    "\n",
    "plt.show()"
   ]
  },
  {
   "cell_type": "markdown",
   "metadata": {},
   "source": [
    "#### oldbalanceDest"
   ]
  },
  {
   "cell_type": "code",
   "execution_count": 34,
   "metadata": {},
   "outputs": [
    {
     "data": {
      "text/plain": [
       "count      659,204.00\n",
       "mean     1,505,833.66\n",
       "std      2,708,975.10\n",
       "min              0.00\n",
       "25%        125,743.54\n",
       "50%        556,436.14\n",
       "75%      1,675,147.69\n",
       "max     42,169,156.09\n",
       "Name: oldbalanceDest, dtype: float64"
      ]
     },
     "execution_count": 34,
     "metadata": {},
     "output_type": "execute_result"
    }
   ],
   "source": [
    "df_filtered['oldbalanceDest'].describe()"
   ]
  },
  {
   "cell_type": "code",
   "execution_count": 35,
   "metadata": {},
   "outputs": [
    {
     "data": {
      "image/png": "[encoded data removed]",
      "text/plain": [
       "<Figure size 864x432 with 1 Axes>"
      ]
     },
     "metadata": {
      "needs_background": "light"
     },
     "output_type": "display_data"
    }
   ],
   "source": [
    "plt.figure(figsize=(12, 6))\n",
    "plt.title('Distribuição da oldbalanceDest', fontdict=TITLE_FONT)\n",
    "sns.histplot(x=df_filtered['oldbalanceDest']/1000, bins=50)\n",
    "# plt.xticks(np.arange(0, 1_000_000_000+1, 500_000_000))\n",
    "# plt.yticks(np.arange(0, 65e4 + 1, 5e4))\n",
    "\n",
    "plt.show()"
   ]
  },
  {
   "cell_type": "code",
   "execution_count": 36,
   "metadata": {},
   "outputs": [
    {
     "data": {
      "text/plain": [
       "count      659,204.00\n",
       "mean     1,834,182.12\n",
       "std      2,831,213.53\n",
       "min              0.00\n",
       "25%        340,815.98\n",
       "50%        866,673.78\n",
       "75%      2,112,130.08\n",
       "max     42,207,404.59\n",
       "Name: newbalanceDest, dtype: float64"
      ]
     },
     "execution_count": 36,
     "metadata": {},
     "output_type": "execute_result"
    }
   ],
   "source": [
    "df_filtered['newbalanceDest'].describe()"
   ]
  },
  {
   "cell_type": "code",
   "execution_count": 37,
   "metadata": {},
   "outputs": [
    {
     "data": {
      "image/png": "[encoded data removed]",
      "text/plain": [
       "<Figure size 864x432 with 1 Axes>"
      ]
     },
     "metadata": {
      "needs_background": "light"
     },
     "output_type": "display_data"
    }
   ],
   "source": [
    "plt.figure(figsize=(12, 6))\n",
    "plt.title('Distribuição da newbalanceDest', fontdict=TITLE_FONT)\n",
    "sns.histplot(x=df_filtered['newbalanceDest']/1000, bins=50)\n",
    "# plt.xticks(np.arange(0, 1_000_000_000+1, 500_000_000))\n",
    "# plt.yticks(np.arange(0, 65e4 + 1, 5e4))\n",
    "\n",
    "plt.show()"
   ]
  },
  {
   "cell_type": "markdown",
   "metadata": {},
   "source": [
    "Pode-se observar que as quatro features estão altamente desbalanceadas, distorcida à direita.  \n",
    "Para obter um resultado satisfatório, será necessário balanceá-los."
   ]
  },
  {
   "cell_type": "markdown",
   "metadata": {},
   "source": [
    "\n",
    "### isFlaggedFraud\n",
    "\n"
   ]
  },
  {
   "cell_type": "code",
   "execution_count": 38,
   "metadata": {},
   "outputs": [
    {
     "data": {
      "text/plain": [
       "0"
      ]
     },
     "execution_count": 38,
     "metadata": {},
     "output_type": "execute_result"
    }
   ],
   "source": [
    "df_filtered['isFlaggedFraud'].sum()"
   ]
  },
  {
   "cell_type": "markdown",
   "metadata": {},
   "source": [
    "Essa feature foi criada pelo criador do dataset para marcar operações com valor igual ou superior à $200 k em que o seu modelo classificou que houve tentativa de fraude.  \n",
    "Para o nosso cenário essa feature não será útil, portanto será descartado ."
   ]
  },
  {
   "cell_type": "markdown",
   "metadata": {},
   "source": [
    "## Conclusão\n",
    "Nessa primeira exploração foi verificado cada uma das 10 features mais a variável alvo. Constata-se que a tanto as features com valores monetários como a variável alvo estão altamente desbalanceados, o que já era de se esperar nesse cenário.   \n",
    "Foi possível reduzir o tamanho dos dados a serem analisados ao constatar-se que somente as transações do tipo saque e transferências possuem fraudes.   \n",
    "Haja vista que a amostragem escolhida para essa análise representa apenas 6 dias de transações, não houve muitos casos de fraude onde a mesma conta estivesse envolvida - apenas 22 ocorrências e mesmo assim cada conta no máximo 2 vezes. Sendo assim a princípio essas colunas podem não ter tanta utilidade no desenvolvimento do modelo - e talvez não devesse ser utilizado mesmo que tivesse, para evitar que o modelo carregue o viés.  \n",
    "Finalizado a análise exploratória, vamos partir para a criação do primeiro modelo que servirá de baseline."
   ]
  }
 ],
 "metadata": {
  "interpreter": {
   "hash": "92c9c07a027b69140d6f69aff66d87a4de998d2b2c8c8206d8a1761b6e8a7cdc"
  },
  "kernelspec": {
   "display_name": "Python 3.10.4 ('ds': venv)",
   "language": "python",
   "name": "python3"
  },
  "language_info": {
   "codemirror_mode": {
    "name": "ipython",
    "version": 3
   },
   "file_extension": ".py",
   "mimetype": "text/x-python",
   "name": "python",
   "nbconvert_exporter": "python",
   "pygments_lexer": "ipython3",
   "version": "3.10.4"
  },
  "orig_nbformat": 4
 },
 "nbformat": 4,
 "nbformat_minor": 2
}
